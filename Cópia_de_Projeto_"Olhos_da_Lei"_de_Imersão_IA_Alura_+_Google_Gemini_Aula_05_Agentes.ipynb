{
  "nbformat": 4,
  "nbformat_minor": 0,
  "metadata": {
    "colab": {
      "provenance": [],
      "include_colab_link": true
    },
    "kernelspec": {
      "name": "python3",
      "display_name": "Python 3"
    },
    "language_info": {
      "name": "python"
    }
  },
  "cells": [
    {
      "cell_type": "markdown",
      "metadata": {
        "id": "view-in-github",
        "colab_type": "text"
      },
      "source": [
        "<a href=\"https://colab.research.google.com/github/Yaakov-Israel/imers-oalura/blob/main/C%C3%B3pia_de_Projeto_%22Olhos_da_Lei%22_de_Imers%C3%A3o_IA_Alura_%2B_Google_Gemini_Aula_05_Agentes.ipynb\" target=\"_parent\"><img src=\"https://colab.research.google.com/assets/colab-badge.svg\" alt=\"Open In Colab\"/></a>"
      ]
    },
    {
      "cell_type": "code",
      "source": [
        "%pip -q install google-genai"
      ],
      "metadata": {
        "id": "UCCbECexLk_h"
      },
      "execution_count": null,
      "outputs": []
    },
    {
      "cell_type": "code",
      "source": [
        "import os\n",
        "from google.colab import userdata\n",
        "from google import genai\n",
        "\n",
        "# Configura a API Key do Google Gemini\n",
        "# Esta linha deve rodar antes de configurar o cliente\n",
        "os.environ[\"GOOGLE_API_KEY\"] = userdata.get('GOOGLE_API_KEY')\n",
        "\n",
        "# Configura o cliente da SDK do Gemini\n",
        "# Agora a chave de API deve estar disponível no ambiente para esta linha\n",
        "client = genai.Client()\n",
        "MODEL_ID = \"gemini-2.0-flash\""
      ],
      "metadata": {
        "id": "aaskXDYV27iQ"
      },
      "execution_count": null,
      "outputs": []
    },
    {
      "cell_type": "code",
      "source": [
        "# Nova Célula: Instalar a biblioteca google-adk\n",
        "\n",
        "# Instala a biblioteca google-adk para podermos importar os Agentes e outras ferramentas\n",
        "%pip install google-adk"
      ],
      "metadata": {
        "colab": {
          "base_uri": "https://localhost:8080/",
          "height": 1000
        },
        "id": "ZS86S7ZB0v9e",
        "outputId": "72ac9e4e-a608-401a-cf46-e617c8991e1f"
      },
      "execution_count": null,
      "outputs": [
        {
          "output_type": "stream",
          "name": "stdout",
          "text": [
            "Collecting google-adk\n",
            "  Downloading google_adk-0.5.0-py3-none-any.whl.metadata (9.7 kB)\n",
            "Collecting authlib>=1.5.1 (from google-adk)\n",
            "  Downloading authlib-1.5.2-py2.py3-none-any.whl.metadata (3.9 kB)\n",
            "Requirement already satisfied: click>=8.1.8 in /usr/local/lib/python3.11/dist-packages (from google-adk) (8.2.0)\n",
            "Collecting fastapi>=0.115.0 (from google-adk)\n",
            "  Downloading fastapi-0.115.12-py3-none-any.whl.metadata (27 kB)\n",
            "Requirement already satisfied: google-api-python-client>=2.157.0 in /usr/local/lib/python3.11/dist-packages (from google-adk) (2.169.0)\n",
            "Requirement already satisfied: google-cloud-aiplatform>=1.87.0 in /usr/local/lib/python3.11/dist-packages (from google-adk) (1.92.0)\n",
            "Collecting google-cloud-secret-manager>=2.22.0 (from google-adk)\n",
            "  Downloading google_cloud_secret_manager-2.23.3-py3-none-any.whl.metadata (9.4 kB)\n",
            "Collecting google-cloud-speech>=2.30.0 (from google-adk)\n",
            "  Downloading google_cloud_speech-2.32.0-py3-none-any.whl.metadata (9.5 kB)\n",
            "Requirement already satisfied: google-cloud-storage<3.0.0,>=2.18.0 in /usr/local/lib/python3.11/dist-packages (from google-adk) (2.19.0)\n",
            "Requirement already satisfied: google-genai>=1.12.1 in /usr/local/lib/python3.11/dist-packages (from google-adk) (1.15.0)\n",
            "Requirement already satisfied: graphviz>=0.20.2 in /usr/local/lib/python3.11/dist-packages (from google-adk) (0.20.3)\n",
            "Collecting mcp>=1.5.0 (from google-adk)\n",
            "  Downloading mcp-1.9.0-py3-none-any.whl.metadata (26 kB)\n",
            "Collecting opentelemetry-api>=1.31.0 (from google-adk)\n",
            "  Downloading opentelemetry_api-1.33.1-py3-none-any.whl.metadata (1.6 kB)\n",
            "Collecting opentelemetry-exporter-gcp-trace>=1.9.0 (from google-adk)\n",
            "  Downloading opentelemetry_exporter_gcp_trace-1.9.0-py3-none-any.whl.metadata (3.3 kB)\n",
            "Collecting opentelemetry-sdk>=1.31.0 (from google-adk)\n",
            "  Downloading opentelemetry_sdk-1.33.1-py3-none-any.whl.metadata (1.6 kB)\n",
            "Requirement already satisfied: pydantic<3.0.0,>=2.0 in /usr/local/lib/python3.11/dist-packages (from google-adk) (2.11.4)\n",
            "Collecting python-dotenv>=1.0.0 (from google-adk)\n",
            "  Downloading python_dotenv-1.1.0-py3-none-any.whl.metadata (24 kB)\n",
            "Requirement already satisfied: PyYAML>=6.0.2 in /usr/local/lib/python3.11/dist-packages (from google-adk) (6.0.2)\n",
            "Requirement already satisfied: sqlalchemy>=2.0 in /usr/local/lib/python3.11/dist-packages (from google-adk) (2.0.40)\n",
            "Requirement already satisfied: tzlocal>=5.3 in /usr/local/lib/python3.11/dist-packages (from google-adk) (5.3.1)\n",
            "Collecting uvicorn>=0.34.0 (from google-adk)\n",
            "  Downloading uvicorn-0.34.2-py3-none-any.whl.metadata (6.5 kB)\n",
            "Requirement already satisfied: cryptography in /usr/local/lib/python3.11/dist-packages (from authlib>=1.5.1->google-adk) (43.0.3)\n",
            "Collecting starlette<0.47.0,>=0.40.0 (from fastapi>=0.115.0->google-adk)\n",
            "  Downloading starlette-0.46.2-py3-none-any.whl.metadata (6.2 kB)\n",
            "Requirement already satisfied: typing-extensions>=4.8.0 in /usr/local/lib/python3.11/dist-packages (from fastapi>=0.115.0->google-adk) (4.13.2)\n",
            "Requirement already satisfied: httplib2<1.0.0,>=0.19.0 in /usr/local/lib/python3.11/dist-packages (from google-api-python-client>=2.157.0->google-adk) (0.22.0)\n",
            "Requirement already satisfied: google-auth!=2.24.0,!=2.25.0,<3.0.0,>=1.32.0 in /usr/local/lib/python3.11/dist-packages (from google-api-python-client>=2.157.0->google-adk) (2.38.0)\n",
            "Requirement already satisfied: google-auth-httplib2<1.0.0,>=0.2.0 in /usr/local/lib/python3.11/dist-packages (from google-api-python-client>=2.157.0->google-adk) (0.2.0)\n",
            "Requirement already satisfied: google-api-core!=2.0.*,!=2.1.*,!=2.2.*,!=2.3.0,<3.0.0,>=1.31.5 in /usr/local/lib/python3.11/dist-packages (from google-api-python-client>=2.157.0->google-adk) (2.24.2)\n",
            "Requirement already satisfied: uritemplate<5,>=3.0.1 in /usr/local/lib/python3.11/dist-packages (from google-api-python-client>=2.157.0->google-adk) (4.1.1)\n",
            "Requirement already satisfied: proto-plus<2.0.0,>=1.22.3 in /usr/local/lib/python3.11/dist-packages (from google-cloud-aiplatform>=1.87.0->google-adk) (1.26.1)\n",
            "Requirement already satisfied: protobuf!=4.21.0,!=4.21.1,!=4.21.2,!=4.21.3,!=4.21.4,!=4.21.5,<7.0.0,>=3.20.2 in /usr/local/lib/python3.11/dist-packages (from google-cloud-aiplatform>=1.87.0->google-adk) (5.29.4)\n",
            "Requirement already satisfied: packaging>=14.3 in /usr/local/lib/python3.11/dist-packages (from google-cloud-aiplatform>=1.87.0->google-adk) (24.2)\n",
            "Requirement already satisfied: google-cloud-bigquery!=3.20.0,<4.0.0,>=1.15.0 in /usr/local/lib/python3.11/dist-packages (from google-cloud-aiplatform>=1.87.0->google-adk) (3.32.0)\n",
            "Requirement already satisfied: google-cloud-resource-manager<3.0.0,>=1.3.3 in /usr/local/lib/python3.11/dist-packages (from google-cloud-aiplatform>=1.87.0->google-adk) (1.14.2)\n",
            "Requirement already satisfied: shapely<3.0.0 in /usr/local/lib/python3.11/dist-packages (from google-cloud-aiplatform>=1.87.0->google-adk) (2.1.0)\n",
            "Requirement already satisfied: docstring-parser<1 in /usr/local/lib/python3.11/dist-packages (from google-cloud-aiplatform>=1.87.0->google-adk) (0.16)\n",
            "Requirement already satisfied: grpc-google-iam-v1<1.0.0,>=0.14.0 in /usr/local/lib/python3.11/dist-packages (from google-cloud-secret-manager>=2.22.0->google-adk) (0.14.2)\n",
            "Requirement already satisfied: google-cloud-core<3.0dev,>=2.3.0 in /usr/local/lib/python3.11/dist-packages (from google-cloud-storage<3.0.0,>=2.18.0->google-adk) (2.4.3)\n",
            "Requirement already satisfied: google-resumable-media>=2.7.2 in /usr/local/lib/python3.11/dist-packages (from google-cloud-storage<3.0.0,>=2.18.0->google-adk) (2.7.2)\n",
            "Requirement already satisfied: requests<3.0.0dev,>=2.18.0 in /usr/local/lib/python3.11/dist-packages (from google-cloud-storage<3.0.0,>=2.18.0->google-adk) (2.32.3)\n",
            "Requirement already satisfied: google-crc32c<2.0dev,>=1.0 in /usr/local/lib/python3.11/dist-packages (from google-cloud-storage<3.0.0,>=2.18.0->google-adk) (1.7.1)\n",
            "Requirement already satisfied: anyio<5.0.0,>=4.8.0 in /usr/local/lib/python3.11/dist-packages (from google-genai>=1.12.1->google-adk) (4.9.0)\n",
            "Requirement already satisfied: httpx<1.0.0,>=0.28.1 in /usr/local/lib/python3.11/dist-packages (from google-genai>=1.12.1->google-adk) (0.28.1)\n",
            "Requirement already satisfied: websockets<15.1.0,>=13.0.0 in /usr/local/lib/python3.11/dist-packages (from google-genai>=1.12.1->google-adk) (15.0.1)\n",
            "Collecting httpx-sse>=0.4 (from mcp>=1.5.0->google-adk)\n",
            "  Downloading httpx_sse-0.4.0-py3-none-any.whl.metadata (9.0 kB)\n",
            "Collecting pydantic-settings>=2.5.2 (from mcp>=1.5.0->google-adk)\n",
            "  Downloading pydantic_settings-2.9.1-py3-none-any.whl.metadata (3.8 kB)\n",
            "Collecting python-multipart>=0.0.9 (from mcp>=1.5.0->google-adk)\n",
            "  Downloading python_multipart-0.0.20-py3-none-any.whl.metadata (1.8 kB)\n",
            "Collecting sse-starlette>=1.6.1 (from mcp>=1.5.0->google-adk)\n",
            "  Downloading sse_starlette-2.3.5-py3-none-any.whl.metadata (7.8 kB)\n",
            "Collecting deprecated>=1.2.6 (from opentelemetry-api>=1.31.0->google-adk)\n",
            "  Downloading Deprecated-1.2.18-py2.py3-none-any.whl.metadata (5.7 kB)\n",
            "Collecting importlib-metadata<8.7.0,>=6.0 (from opentelemetry-api>=1.31.0->google-adk)\n",
            "  Downloading importlib_metadata-8.6.1-py3-none-any.whl.metadata (4.7 kB)\n",
            "Collecting google-cloud-trace~=1.1 (from opentelemetry-exporter-gcp-trace>=1.9.0->google-adk)\n",
            "  Downloading google_cloud_trace-1.16.1-py3-none-any.whl.metadata (9.5 kB)\n",
            "Collecting opentelemetry-resourcedetector-gcp==1.*,>=1.5.0dev0 (from opentelemetry-exporter-gcp-trace>=1.9.0->google-adk)\n",
            "  Downloading opentelemetry_resourcedetector_gcp-1.9.0a0-py3-none-any.whl.metadata (2.4 kB)\n",
            "Collecting opentelemetry-semantic-conventions==0.54b1 (from opentelemetry-sdk>=1.31.0->google-adk)\n",
            "  Downloading opentelemetry_semantic_conventions-0.54b1-py3-none-any.whl.metadata (2.5 kB)\n",
            "Requirement already satisfied: annotated-types>=0.6.0 in /usr/local/lib/python3.11/dist-packages (from pydantic<3.0.0,>=2.0->google-adk) (0.7.0)\n",
            "Requirement already satisfied: pydantic-core==2.33.2 in /usr/local/lib/python3.11/dist-packages (from pydantic<3.0.0,>=2.0->google-adk) (2.33.2)\n",
            "Requirement already satisfied: typing-inspection>=0.4.0 in /usr/local/lib/python3.11/dist-packages (from pydantic<3.0.0,>=2.0->google-adk) (0.4.0)\n",
            "Requirement already satisfied: greenlet>=1 in /usr/local/lib/python3.11/dist-packages (from sqlalchemy>=2.0->google-adk) (3.2.2)\n",
            "Requirement already satisfied: h11>=0.8 in /usr/local/lib/python3.11/dist-packages (from uvicorn>=0.34.0->google-adk) (0.16.0)\n",
            "Requirement already satisfied: idna>=2.8 in /usr/local/lib/python3.11/dist-packages (from anyio<5.0.0,>=4.8.0->google-genai>=1.12.1->google-adk) (3.10)\n",
            "Requirement already satisfied: sniffio>=1.1 in /usr/local/lib/python3.11/dist-packages (from anyio<5.0.0,>=4.8.0->google-genai>=1.12.1->google-adk) (1.3.1)\n",
            "Requirement already satisfied: wrapt<2,>=1.10 in /usr/local/lib/python3.11/dist-packages (from deprecated>=1.2.6->opentelemetry-api>=1.31.0->google-adk) (1.17.2)\n",
            "Requirement already satisfied: googleapis-common-protos<2.0.0,>=1.56.2 in /usr/local/lib/python3.11/dist-packages (from google-api-core!=2.0.*,!=2.1.*,!=2.2.*,!=2.3.0,<3.0.0,>=1.31.5->google-api-python-client>=2.157.0->google-adk) (1.70.0)\n",
            "Requirement already satisfied: grpcio<2.0dev,>=1.33.2 in /usr/local/lib/python3.11/dist-packages (from google-api-core[grpc]!=2.0.*,!=2.1.*,!=2.2.*,!=2.3.*,!=2.4.*,!=2.5.*,!=2.6.*,!=2.7.*,<3.0.0,>=1.34.1->google-cloud-aiplatform>=1.87.0->google-adk) (1.71.0)\n",
            "Requirement already satisfied: grpcio-status<2.0.dev0,>=1.33.2 in /usr/local/lib/python3.11/dist-packages (from google-api-core[grpc]!=2.0.*,!=2.1.*,!=2.2.*,!=2.3.*,!=2.4.*,!=2.5.*,!=2.6.*,!=2.7.*,<3.0.0,>=1.34.1->google-cloud-aiplatform>=1.87.0->google-adk) (1.71.0)\n",
            "Requirement already satisfied: cachetools<6.0,>=2.0.0 in /usr/local/lib/python3.11/dist-packages (from google-auth!=2.24.0,!=2.25.0,<3.0.0,>=1.32.0->google-api-python-client>=2.157.0->google-adk) (5.5.2)\n",
            "Requirement already satisfied: pyasn1-modules>=0.2.1 in /usr/local/lib/python3.11/dist-packages (from google-auth!=2.24.0,!=2.25.0,<3.0.0,>=1.32.0->google-api-python-client>=2.157.0->google-adk) (0.4.2)\n",
            "Requirement already satisfied: rsa<5,>=3.1.4 in /usr/local/lib/python3.11/dist-packages (from google-auth!=2.24.0,!=2.25.0,<3.0.0,>=1.32.0->google-api-python-client>=2.157.0->google-adk) (4.9.1)\n",
            "Requirement already satisfied: python-dateutil<3.0.0,>=2.8.2 in /usr/local/lib/python3.11/dist-packages (from google-cloud-bigquery!=3.20.0,<4.0.0,>=1.15.0->google-cloud-aiplatform>=1.87.0->google-adk) (2.9.0.post0)\n",
            "Requirement already satisfied: pyparsing!=3.0.0,!=3.0.1,!=3.0.2,!=3.0.3,<4,>=2.4.2 in /usr/local/lib/python3.11/dist-packages (from httplib2<1.0.0,>=0.19.0->google-api-python-client>=2.157.0->google-adk) (3.2.3)\n",
            "Requirement already satisfied: certifi in /usr/local/lib/python3.11/dist-packages (from httpx<1.0.0,>=0.28.1->google-genai>=1.12.1->google-adk) (2025.4.26)\n",
            "Requirement already satisfied: httpcore==1.* in /usr/local/lib/python3.11/dist-packages (from httpx<1.0.0,>=0.28.1->google-genai>=1.12.1->google-adk) (1.0.9)\n",
            "Requirement already satisfied: zipp>=3.20 in /usr/local/lib/python3.11/dist-packages (from importlib-metadata<8.7.0,>=6.0->opentelemetry-api>=1.31.0->google-adk) (3.21.0)\n",
            "Requirement already satisfied: charset-normalizer<4,>=2 in /usr/local/lib/python3.11/dist-packages (from requests<3.0.0dev,>=2.18.0->google-cloud-storage<3.0.0,>=2.18.0->google-adk) (3.4.2)\n",
            "Requirement already satisfied: urllib3<3,>=1.21.1 in /usr/local/lib/python3.11/dist-packages (from requests<3.0.0dev,>=2.18.0->google-cloud-storage<3.0.0,>=2.18.0->google-adk) (2.4.0)\n",
            "Requirement already satisfied: numpy>=1.21 in /usr/local/lib/python3.11/dist-packages (from shapely<3.0.0->google-cloud-aiplatform>=1.87.0->google-adk) (2.0.2)\n",
            "Requirement already satisfied: cffi>=1.12 in /usr/local/lib/python3.11/dist-packages (from cryptography->authlib>=1.5.1->google-adk) (1.17.1)\n",
            "Requirement already satisfied: pycparser in /usr/local/lib/python3.11/dist-packages (from cffi>=1.12->cryptography->authlib>=1.5.1->google-adk) (2.22)\n",
            "Requirement already satisfied: pyasn1<0.7.0,>=0.6.1 in /usr/local/lib/python3.11/dist-packages (from pyasn1-modules>=0.2.1->google-auth!=2.24.0,!=2.25.0,<3.0.0,>=1.32.0->google-api-python-client>=2.157.0->google-adk) (0.6.1)\n",
            "Requirement already satisfied: six>=1.5 in /usr/local/lib/python3.11/dist-packages (from python-dateutil<3.0.0,>=2.8.2->google-cloud-bigquery!=3.20.0,<4.0.0,>=1.15.0->google-cloud-aiplatform>=1.87.0->google-adk) (1.17.0)\n",
            "Downloading google_adk-0.5.0-py3-none-any.whl (1.2 MB)\n",
            "\u001b[2K   \u001b[90m━━━━━━━━━━━━━━━━━━━━━━━━━━━━━━━━━━━━━━━━\u001b[0m \u001b[32m1.2/1.2 MB\u001b[0m \u001b[31m36.4 MB/s\u001b[0m eta \u001b[36m0:00:00\u001b[0m\n",
            "\u001b[?25hDownloading authlib-1.5.2-py2.py3-none-any.whl (232 kB)\n",
            "\u001b[2K   \u001b[90m━━━━━━━━━━━━━━━━━━━━━━━━━━━━━━━━━━━━━━━━\u001b[0m \u001b[32m232.1/232.1 kB\u001b[0m \u001b[31m17.8 MB/s\u001b[0m eta \u001b[36m0:00:00\u001b[0m\n",
            "\u001b[?25hDownloading fastapi-0.115.12-py3-none-any.whl (95 kB)\n",
            "\u001b[2K   \u001b[90m━━━━━━━━━━━━━━━━━━━━━━━━━━━━━━━━━━━━━━━━\u001b[0m \u001b[32m95.2/95.2 kB\u001b[0m \u001b[31m7.2 MB/s\u001b[0m eta \u001b[36m0:00:00\u001b[0m\n",
            "\u001b[?25hDownloading google_cloud_secret_manager-2.23.3-py3-none-any.whl (217 kB)\n",
            "\u001b[2K   \u001b[90m━━━━━━━━━━━━━━━━━━━━━━━━━━━━━━━━━━━━━━━━\u001b[0m \u001b[32m217.1/217.1 kB\u001b[0m \u001b[31m16.8 MB/s\u001b[0m eta \u001b[36m0:00:00\u001b[0m\n",
            "\u001b[?25hDownloading google_cloud_speech-2.32.0-py3-none-any.whl (334 kB)\n",
            "\u001b[2K   \u001b[90m━━━━━━━━━━━━━━━━━━━━━━━━━━━━━━━━━━━━━━━━\u001b[0m \u001b[32m334.1/334.1 kB\u001b[0m \u001b[31m21.9 MB/s\u001b[0m eta \u001b[36m0:00:00\u001b[0m\n",
            "\u001b[?25hDownloading mcp-1.9.0-py3-none-any.whl (125 kB)\n",
            "\u001b[2K   \u001b[90m━━━━━━━━━━━━━━━━━━━━━━━━━━━━━━━━━━━━━━━━\u001b[0m \u001b[32m125.1/125.1 kB\u001b[0m \u001b[31m9.8 MB/s\u001b[0m eta \u001b[36m0:00:00\u001b[0m\n",
            "\u001b[?25hDownloading opentelemetry_api-1.33.1-py3-none-any.whl (65 kB)\n",
            "\u001b[2K   \u001b[90m━━━━━━━━━━━━━━━━━━━━━━━━━━━━━━━━━━━━━━━━\u001b[0m \u001b[32m65.8/65.8 kB\u001b[0m \u001b[31m5.0 MB/s\u001b[0m eta \u001b[36m0:00:00\u001b[0m\n",
            "\u001b[?25hDownloading opentelemetry_exporter_gcp_trace-1.9.0-py3-none-any.whl (13 kB)\n",
            "Downloading opentelemetry_resourcedetector_gcp-1.9.0a0-py3-none-any.whl (20 kB)\n",
            "Downloading opentelemetry_sdk-1.33.1-py3-none-any.whl (118 kB)\n",
            "\u001b[2K   \u001b[90m━━━━━━━━━━━━━━━━━━━━━━━━━━━━━━━━━━━━━━━━\u001b[0m \u001b[32m119.0/119.0 kB\u001b[0m \u001b[31m9.2 MB/s\u001b[0m eta \u001b[36m0:00:00\u001b[0m\n",
            "\u001b[?25hDownloading opentelemetry_semantic_conventions-0.54b1-py3-none-any.whl (194 kB)\n",
            "\u001b[2K   \u001b[90m━━━━━━━━━━━━━━━━━━━━━━━━━━━━━━━━━━━━━━━━\u001b[0m \u001b[32m194.9/194.9 kB\u001b[0m \u001b[31m13.5 MB/s\u001b[0m eta \u001b[36m0:00:00\u001b[0m\n",
            "\u001b[?25hDownloading python_dotenv-1.1.0-py3-none-any.whl (20 kB)\n",
            "Downloading uvicorn-0.34.2-py3-none-any.whl (62 kB)\n",
            "\u001b[2K   \u001b[90m━━━━━━━━━━━━━━━━━━━━━━━━━━━━━━━━━━━━━━━━\u001b[0m \u001b[32m62.5/62.5 kB\u001b[0m \u001b[31m4.0 MB/s\u001b[0m eta \u001b[36m0:00:00\u001b[0m\n",
            "\u001b[?25hDownloading Deprecated-1.2.18-py2.py3-none-any.whl (10.0 kB)\n",
            "Downloading google_cloud_trace-1.16.1-py3-none-any.whl (103 kB)\n",
            "\u001b[2K   \u001b[90m━━━━━━━━━━━━━━━━━━━━━━━━━━━━━━━━━━━━━━━━\u001b[0m \u001b[32m103.3/103.3 kB\u001b[0m \u001b[31m7.4 MB/s\u001b[0m eta \u001b[36m0:00:00\u001b[0m\n",
            "\u001b[?25hDownloading httpx_sse-0.4.0-py3-none-any.whl (7.8 kB)\n",
            "Downloading importlib_metadata-8.6.1-py3-none-any.whl (26 kB)\n",
            "Downloading pydantic_settings-2.9.1-py3-none-any.whl (44 kB)\n",
            "\u001b[2K   \u001b[90m━━━━━━━━━━━━━━━━━━━━━━━━━━━━━━━━━━━━━━━━\u001b[0m \u001b[32m44.4/44.4 kB\u001b[0m \u001b[31m3.0 MB/s\u001b[0m eta \u001b[36m0:00:00\u001b[0m\n",
            "\u001b[?25hDownloading python_multipart-0.0.20-py3-none-any.whl (24 kB)\n",
            "Downloading sse_starlette-2.3.5-py3-none-any.whl (10 kB)\n",
            "Downloading starlette-0.46.2-py3-none-any.whl (72 kB)\n",
            "\u001b[2K   \u001b[90m━━━━━━━━━━━━━━━━━━━━━━━━━━━━━━━━━━━━━━━━\u001b[0m \u001b[32m72.0/72.0 kB\u001b[0m \u001b[31m5.5 MB/s\u001b[0m eta \u001b[36m0:00:00\u001b[0m\n",
            "\u001b[?25hInstalling collected packages: uvicorn, python-multipart, python-dotenv, importlib-metadata, httpx-sse, deprecated, starlette, opentelemetry-api, sse-starlette, pydantic-settings, opentelemetry-semantic-conventions, fastapi, authlib, opentelemetry-sdk, mcp, opentelemetry-resourcedetector-gcp, google-cloud-trace, google-cloud-speech, google-cloud-secret-manager, opentelemetry-exporter-gcp-trace, google-adk\n",
            "  Attempting uninstall: importlib-metadata\n",
            "    Found existing installation: importlib_metadata 8.7.0\n",
            "    Uninstalling importlib_metadata-8.7.0:\n",
            "      Successfully uninstalled importlib_metadata-8.7.0\n",
            "Successfully installed authlib-1.5.2 deprecated-1.2.18 fastapi-0.115.12 google-adk-0.5.0 google-cloud-secret-manager-2.23.3 google-cloud-speech-2.32.0 google-cloud-trace-1.16.1 httpx-sse-0.4.0 importlib-metadata-8.6.1 mcp-1.9.0 opentelemetry-api-1.33.1 opentelemetry-exporter-gcp-trace-1.9.0 opentelemetry-resourcedetector-gcp-1.9.0a0 opentelemetry-sdk-1.33.1 opentelemetry-semantic-conventions-0.54b1 pydantic-settings-2.9.1 python-dotenv-1.1.0 python-multipart-0.0.20 sse-starlette-2.3.5 starlette-0.46.2 uvicorn-0.34.2\n"
          ]
        },
        {
          "output_type": "display_data",
          "data": {
            "application/vnd.colab-display-data+json": {
              "pip_warning": {
                "packages": [
                  "google",
                  "importlib_metadata"
                ]
              },
              "id": "81860499015b4375b5ef9753c28e4af9"
            }
          },
          "metadata": {}
        }
      ]
    },
    {
      "cell_type": "code",
      "source": [
        "# Célula 2: Definindo o Agente Visão\n",
        "\n",
        "# Este Agente vai ser os \"olhos\" do nosso Super Agente Olhos da Lei.\n",
        "# Ele usa a peça 'Agent' que importamos na Célula 1.\n",
        "# 'MODEL_ID' deve ter sido definido nas células de configuração inicial (antes da Célula 1).\n",
        "\n",
        "vision_agent = Agent(\n",
        "    name=\"VisionAgent\", # Damos um nome para o nosso Agente Visão\n",
        "    model=MODEL_ID, # Usamos o modelo Gemini que configuramos antes\n",
        "    instruction=\"Você é o sistema de visão de segurança. Sua tarefa é observar uma cena descrita e identificar pessoas, objetos visíveis e suas ações.\", # Instrução: o que ele deve fazer ao \"ver\" a cena\n",
        "    description=\"Agente responsável por processar informações visuais.\", # Uma pequena descrição do que ele faz\n",
        ")"
      ],
      "metadata": {
        "id": "FoIb4rbf1fvr"
      },
      "execution_count": null,
      "outputs": []
    },
    {
      "cell_type": "code",
      "source": [
        "from google.adk.agents import Agent\n",
        "from google.adk.runners import Runner\n",
        "from google.adk.sessions import InMemorySessionService\n",
        "from google.genai import types\n",
        "\n",
        "def call_agent(agent: Agent, message_text: str) -> str:\n",
        "    session_service = InMemorySessionService()\n",
        "    # O 'runner' é criado AQUI DENTRO da função!\n",
        "    runner = Runner(agent=agent, app_name=agent.name, session_service=session_service)\n",
        "    content = types.Content(role=\"user\", parts=[types.Part(text=message_text)])\n",
        "\n",
        "    final_response = \"\"\n",
        "    # E usado AQUI DENTRO da função!\n",
        "    for event in runner.run(user_id=\"user1\", session_id=\"session1\", new_message=content):\n",
        "        if event.is_final_response():\n",
        "            for part in event.content.parts:\n",
        "                if part.text is not None:\n",
        "                    final_response += part.text\n",
        "                    final_response += \"\\n\"\n",
        "    return final_response"
      ],
      "metadata": {
        "id": "PY1ENSbr4hB9"
      },
      "execution_count": null,
      "outputs": []
    },
    {
      "cell_type": "code",
      "source": [
        "# Célula 4: Rodando o Agente Visão com um Exemplo!\n",
        "\n",
        "# Importamos display e Markdown diretamente aqui para garantir que estejam disponíveis\n",
        "from IPython.display import display, Markdown\n",
        "\n",
        "# Esta célula usa 'vision_agent' (definido na Célula 2) e 'call_agent' (definida na Célula 3).\n",
        "# O ValueError 'Session not found' pode acontecer dependendo da configuração do ADK.\n",
        "\n",
        "# Vamos criar uma descrição simples da cena\n",
        "scene_description = \"Uma pessoa está correndo na rua com uma caixa nas mãos. Nenhuma outra pessoa visível.\"\n",
        "\n",
        "print(f\"--- Enviando a cena para o Agente Visão ---\\nDescrição: {scene_description}\")\n",
        "\n",
        "# Usamos a função call_agent para rodar o nosso vision_agent\n",
        "vision_report = call_agent(vision_agent, scene_description)\n",
        "\n",
        "# Mostramos o relatório\n",
        "print(\"\\n--- Relatório do Agente Visão ---\")\n",
        "display(Markdown(vision_report))"
      ],
      "metadata": {
        "colab": {
          "base_uri": "https://localhost:8080/",
          "height": 468
        },
        "id": "MDnmk_Va35fN",
        "outputId": "b26adacd-0e1c-4d6b-f63a-35f5971f7bd7"
      },
      "execution_count": null,
      "outputs": [
        {
          "output_type": "stream",
          "name": "stderr",
          "text": [
            "Exception in thread Thread-10 (_asyncio_thread_main):\n",
            "Traceback (most recent call last):\n",
            "  File \"/usr/lib/python3.11/threading.py\", line 1045, in _bootstrap_inner\n",
            "    self.run()\n",
            "  File \"/usr/lib/python3.11/threading.py\", line 982, in run\n",
            "    self._target(*self._args, **self._kwargs)\n",
            "  File \"/usr/local/lib/python3.11/dist-packages/google/adk/runners.py\", line 138, in _asyncio_thread_main\n",
            "    asyncio.run(_invoke_run_async())\n",
            "  File \"/usr/lib/python3.11/asyncio/runners.py\", line 190, in run\n",
            "    return runner.run(main)\n",
            "           ^^^^^^^^^^^^^^^^\n",
            "  File \"/usr/lib/python3.11/asyncio/runners.py\", line 118, in run\n",
            "    return self._loop.run_until_complete(task)\n",
            "           ^^^^^^^^^^^^^^^^^^^^^^^^^^^^^^^^^^^\n",
            "  File \"/usr/lib/python3.11/asyncio/base_events.py\", line 654, in run_until_complete\n",
            "    return future.result()\n",
            "           ^^^^^^^^^^^^^^^\n",
            "  File \"/usr/local/lib/python3.11/dist-packages/google/adk/runners.py\", line 126, in _invoke_run_async\n",
            "    async for event in self.run_async(\n",
            "  File \"/usr/local/lib/python3.11/dist-packages/google/adk/runners.py\", line 179, in run_async\n",
            "    raise ValueError(f'Session not found: {session_id}')\n",
            "ValueError: Session not found: session1\n"
          ]
        },
        {
          "output_type": "stream",
          "name": "stdout",
          "text": [
            "--- Enviando a cena para o Agente Visão ---\n",
            "Descrição: Uma pessoa está correndo na rua com uma caixa nas mãos. Nenhuma outra pessoa visível.\n",
            "\n",
            "--- Relatório do Agente Visão ---\n"
          ]
        },
        {
          "output_type": "display_data",
          "data": {
            "text/plain": [
              "<IPython.core.display.Markdown object>"
            ],
            "text/markdown": ""
          },
          "metadata": {}
        }
      ]
    },
    {
      "cell_type": "code",
      "source": [
        "# Célula 5: Definindo o Agente Risco (O Cérebro de Decisão!)\n",
        "\n",
        "# Este Agente vai receber o relatório do Agente Visão e decidir o nível de risco.\n",
        "# Ele usa a peça 'Agent' (que deve ter sido importada na Célula 1 ou antes)\n",
        "# e o MODEL_ID (configurado no início).\n",
        "\n",
        "risk_agent = Agent(\n",
        "    name=\"RiskAgent\", # Damos um nome para o nosso Agente Risco\n",
        "    model=MODEL_ID, # Usamos o mesmo modelo Gemini\n",
        "    instruction=\"Você é o sistema de avaliação de risco de segurança. Analise um relatório de observação e determine o nível de risco (Baixo, Médio, Alto) e justifique sua avaliação.\", # Instrução para avaliar o risco\n",
        "    description=\"Agente responsável por avaliar o risco de uma situação.\", # Descrição do Agente Risco\n",
        ")"
      ],
      "metadata": {
        "id": "HSbhPzD68UiT"
      },
      "execution_count": null,
      "outputs": []
    },
    {
      "cell_type": "code",
      "source": [
        "# Célula 6: Rodando o Agente Risco com o Relatório do Agente Visão!\n",
        "\n",
        "# Esta célula pega o relatório do Agente Visão (resultado da Célula 4)\n",
        "# e passa como entrada para o Agente Risco (definido na Célula 5).\n",
        "# Usamos a função call_agent (definida na Célula 3) para rodar o Agente.\n",
        "# 'display' e 'Markdown' devem estar importados.\n",
        "\n",
        "# Assumimos que a variável 'vision_report' contém o relatório do Agente Visão\n",
        "# que foi gerado na Célula 4 que rodou com sucesso.\n",
        "\n",
        "print(\"--- Enviando o relatório do Agente Visão para o Agente Risco ---\")\n",
        "\n",
        "# Chamamos o Agente Risco (risk_agent) usando a função call_agent,\n",
        "# passando o relatório do Agente Visão (conteúdo de 'vision_report') como a \"informação\" para ele analisar.\n",
        "risk_assessment = call_agent(risk_agent, vision_report)\n",
        "\n",
        "# Mostramos a avaliação de risco que o Agente Risco gerou baseado no relatório!\n",
        "print(\"\\n--- Avaliação de Risco do Agente Risco ---\")\n",
        "display(Markdown(risk_assessment))"
      ],
      "metadata": {
        "colab": {
          "base_uri": "https://localhost:8080/",
          "height": 451
        },
        "id": "LKii5W9G8fc7",
        "outputId": "0e65388e-585a-4497-a7bd-1cd2d5b78194"
      },
      "execution_count": null,
      "outputs": [
        {
          "output_type": "stream",
          "name": "stderr",
          "text": [
            "Exception in thread Thread-11 (_asyncio_thread_main):\n",
            "Traceback (most recent call last):\n",
            "  File \"/usr/lib/python3.11/threading.py\", line 1045, in _bootstrap_inner\n",
            "    self.run()\n",
            "  File \"/usr/lib/python3.11/threading.py\", line 982, in run\n",
            "    self._target(*self._args, **self._kwargs)\n",
            "  File \"/usr/local/lib/python3.11/dist-packages/google/adk/runners.py\", line 138, in _asyncio_thread_main\n",
            "    asyncio.run(_invoke_run_async())\n",
            "  File \"/usr/lib/python3.11/asyncio/runners.py\", line 190, in run\n",
            "    return runner.run(main)\n",
            "           ^^^^^^^^^^^^^^^^\n",
            "  File \"/usr/lib/python3.11/asyncio/runners.py\", line 118, in run\n",
            "    return self._loop.run_until_complete(task)\n",
            "           ^^^^^^^^^^^^^^^^^^^^^^^^^^^^^^^^^^^\n",
            "  File \"/usr/lib/python3.11/asyncio/base_events.py\", line 654, in run_until_complete\n",
            "    return future.result()\n",
            "           ^^^^^^^^^^^^^^^\n",
            "  File \"/usr/local/lib/python3.11/dist-packages/google/adk/runners.py\", line 126, in _invoke_run_async\n",
            "    async for event in self.run_async(\n",
            "  File \"/usr/local/lib/python3.11/dist-packages/google/adk/runners.py\", line 179, in run_async\n",
            "    raise ValueError(f'Session not found: {session_id}')\n",
            "ValueError: Session not found: session1\n"
          ]
        },
        {
          "output_type": "stream",
          "name": "stdout",
          "text": [
            "--- Enviando o relatório do Agente Visão para o Agente Risco ---\n",
            "\n",
            "--- Avaliação de Risco do Agente Risco ---\n"
          ]
        },
        {
          "output_type": "display_data",
          "data": {
            "text/plain": [
              "<IPython.core.display.Markdown object>"
            ],
            "text/markdown": ""
          },
          "metadata": {}
        }
      ]
    },
    {
      "cell_type": "code",
      "source": [
        "# Célula 7: Definindo o Agente Ação (A Resposta do Super Agente!)\n",
        "\n",
        "# Este Agente vai pegar a avaliação de risco e decidir qual a melhor ação.\n",
        "# Ele usa a peça 'Agent' (que deve ter sido importada na Célula 1 ou antes)\n",
        "# e o MODEL_ID (configurado no início).\n",
        "\n",
        "action_agent = Agent(\n",
        "    name=\"ActionAgent\", # Damos um nome para o nosso Agente Ação\n",
        "    model=MODEL_ID, # Usamos o mesmo modelo Gemini\n",
        "    instruction=\"Você é o sistema de recomendação de ações de segurança. Baseado em um nível de risco (Baixo, Médio, Alto) e uma descrição da situação, recomende a ação apropriada: 'Monitorar', 'Alertar Patrulha Próxima', 'Despachar Equipe Tática', 'Ignorar'. Justifique sua recomendação.\", # Instrução: recomendar a ação com base no risco\n",
        "    description=\"Agente responsável por recomendar ações de segurança.\", # Descrição do Agente Ação\n",
        ")"
      ],
      "metadata": {
        "id": "RXwFr2sM8szq"
      },
      "execution_count": null,
      "outputs": []
    },
    {
      "cell_type": "code",
      "source": [
        "# Célula 8: Rodando o Agente Ação com a Avaliação de Risco!\n",
        "\n",
        "# Esta célula pega a avaliação de risco do Agente Risco (resultado da Célula 6)\n",
        "# e passa como entrada para o Agente Ação (definido na Célula 7).\n",
        "# Usamos a função call_agent (definida na Célula 3) para rodar o Agente Ação.\n",
        "# 'display' e 'Markdown' devem estar importados.\n",
        "\n",
        "# Assumimos que a variável 'risk_assessment' contém a avaliação de risco\n",
        "# que foi gerada na Célula 6 que rodou com sucesso.\n",
        "\n",
        "print(\"--- Enviando a avaliação de risco para o Agente Ação ---\")\n",
        "\n",
        "# Chamamos o Agente Ação (action_agent) usando a função call_agent,\n",
        "# passando a avaliação de risco (conteúdo de 'risk_assessment') como a entrada.\n",
        "action_recommendation = call_agent(action_agent, risk_assessment)\n",
        "\n",
        "# Mostramos a recomendação de ação que o Agente Ação gerou!\n",
        "print(\"\\n--- Recomendação de Ação do Super Agente Olhos da Lei ---\")\n",
        "display(Markdown(action_recommendation))"
      ],
      "metadata": {
        "colab": {
          "base_uri": "https://localhost:8080/",
          "height": 451
        },
        "id": "o9Jwz8Sx82Rn",
        "outputId": "58e7dfd4-23c6-492f-edb7-901410c64738"
      },
      "execution_count": null,
      "outputs": [
        {
          "output_type": "stream",
          "name": "stderr",
          "text": [
            "Exception in thread Thread-12 (_asyncio_thread_main):\n",
            "Traceback (most recent call last):\n",
            "  File \"/usr/lib/python3.11/threading.py\", line 1045, in _bootstrap_inner\n",
            "    self.run()\n",
            "  File \"/usr/lib/python3.11/threading.py\", line 982, in run\n",
            "    self._target(*self._args, **self._kwargs)\n",
            "  File \"/usr/local/lib/python3.11/dist-packages/google/adk/runners.py\", line 138, in _asyncio_thread_main\n",
            "    asyncio.run(_invoke_run_async())\n",
            "  File \"/usr/lib/python3.11/asyncio/runners.py\", line 190, in run\n",
            "    return runner.run(main)\n",
            "           ^^^^^^^^^^^^^^^^\n",
            "  File \"/usr/lib/python3.11/asyncio/runners.py\", line 118, in run\n",
            "    return self._loop.run_until_complete(task)\n",
            "           ^^^^^^^^^^^^^^^^^^^^^^^^^^^^^^^^^^^\n",
            "  File \"/usr/lib/python3.11/asyncio/base_events.py\", line 654, in run_until_complete\n",
            "    return future.result()\n",
            "           ^^^^^^^^^^^^^^^\n",
            "  File \"/usr/local/lib/python3.11/dist-packages/google/adk/runners.py\", line 126, in _invoke_run_async\n",
            "    async for event in self.run_async(\n",
            "  File \"/usr/local/lib/python3.11/dist-packages/google/adk/runners.py\", line 179, in run_async\n",
            "    raise ValueError(f'Session not found: {session_id}')\n",
            "ValueError: Session not found: session1\n"
          ]
        },
        {
          "output_type": "stream",
          "name": "stdout",
          "text": [
            "--- Enviando a avaliação de risco para o Agente Ação ---\n",
            "\n",
            "--- Recomendação de Ação do Super Agente Olhos da Lei ---\n"
          ]
        },
        {
          "output_type": "display_data",
          "data": {
            "text/plain": [
              "<IPython.core.display.Markdown object>"
            ],
            "text/markdown": ""
          },
          "metadata": {}
        }
      ]
    },
    {
      "cell_type": "code",
      "source": [
        "# Célula 9: Definindo o Agente Investigação (O Detetive do Super Agente!)\n",
        "\n",
        "# Este Agente pode ser usado para \"investigar\" uma pessoa suspeita.\n",
        "# No futuro, ele poderá usar uma ferramenta para buscar em um banco de dados de procurados!\n",
        "# Precisa da peça 'Agent' importada (na Célula 1 ou antes) e do MODEL_ID configurado.\n",
        "\n",
        "investigation_agent = Agent(\n",
        "    name=\"InvestigationAgent\", # Damos um nome para o nosso Agente Investigação\n",
        "    model=MODEL_ID, # Usamos o mesmo modelo Gemini\n",
        "    instruction=\"Você é um Agente de investigação. Analise um relatório de segurança contendo descrição de pessoa e nível de risco, e determine se há informações adicionais relevantes que poderiam ser buscadas para identificar o indivíduo ou avaliar a ameaça. Por enquanto, apenas indique que tipo de informação seria útil buscar (Ex: nome, características físicas, histórico criminal).\", # Instrução: pensar como um detetive\n",
        "    description=\"Agente responsável por investigar suspeitos.\", # Descrição do Agente Investigação\n",
        ")"
      ],
      "metadata": {
        "id": "L0wIJ9X69C_-"
      },
      "execution_count": null,
      "outputs": []
    },
    {
      "cell_type": "code",
      "source": [
        "# Célula 10: Rodando o Agente Investigação!\n",
        "\n",
        "# Esta célula pega informações dos Agentes anteriores\n",
        "# e passa como entrada para o Agente Investigação (definido na Célula 9).\n",
        "# Usamos a função call_agent (definida na Célula 3) para rodar o Agente Investigação.\n",
        "# 'display' e 'Markdown' devem estar importados.\n",
        "\n",
        "# Assumimos que 'scene_description' está disponível (da Célula 4, por exemplo)\n",
        "# e que a variável 'risk_assessment' contém a avaliação de risco (resultado da Célula 6).\n",
        "\n",
        "# Combinando a descrição da cena e a avaliação de risco para dar como entrada ao Agente Investigação\n",
        "# Em um fluxo real, você garantiria que essas variáveis contêm os resultados mais recentes.\n",
        "investigation_input = f\"Relatório de Visão: {scene_description}\\nAvaliação de Risco: {risk_assessment}\"\n",
        "\n",
        "print(\"--- Enviando informações para o Agente Investigação ---\")\n",
        "print(investigation_input) # Mostrando o que está sendo enviado para ele\n",
        "\n",
        "# Chamamos o Agente Investigação (investigation_agent) usando a função call_agent,\n",
        "# passando a entrada combinada como a \"informação para investigar\".\n",
        "investigation_suggestion = call_agent(investigation_agent, investigation_input)\n",
        "\n",
        "# Mostramos o que o Agente Investigação sugere buscar!\n",
        "print(\"\\n--- Sugestão de Investigação do Super Agente ---\")\n",
        "display(Markdown(investigation_suggestion))"
      ],
      "metadata": {
        "colab": {
          "base_uri": "https://localhost:8080/",
          "height": 486
        },
        "id": "fYQehV1P9KyW",
        "outputId": "14b7b89c-0a64-411e-ea27-b8501e007a35"
      },
      "execution_count": null,
      "outputs": [
        {
          "output_type": "stream",
          "name": "stderr",
          "text": [
            "Exception in thread Thread-13 (_asyncio_thread_main):\n",
            "Traceback (most recent call last):\n",
            "  File \"/usr/lib/python3.11/threading.py\", line 1045, in _bootstrap_inner\n",
            "    self.run()\n",
            "  File \"/usr/lib/python3.11/threading.py\", line 982, in run\n",
            "    self._target(*self._args, **self._kwargs)\n",
            "  File \"/usr/local/lib/python3.11/dist-packages/google/adk/runners.py\", line 138, in _asyncio_thread_main\n",
            "    asyncio.run(_invoke_run_async())\n",
            "  File \"/usr/lib/python3.11/asyncio/runners.py\", line 190, in run\n",
            "    return runner.run(main)\n",
            "           ^^^^^^^^^^^^^^^^\n",
            "  File \"/usr/lib/python3.11/asyncio/runners.py\", line 118, in run\n",
            "    return self._loop.run_until_complete(task)\n",
            "           ^^^^^^^^^^^^^^^^^^^^^^^^^^^^^^^^^^^\n",
            "  File \"/usr/lib/python3.11/asyncio/base_events.py\", line 654, in run_until_complete\n",
            "    return future.result()\n",
            "           ^^^^^^^^^^^^^^^\n",
            "  File \"/usr/local/lib/python3.11/dist-packages/google/adk/runners.py\", line 126, in _invoke_run_async\n",
            "    async for event in self.run_async(\n",
            "  File \"/usr/local/lib/python3.11/dist-packages/google/adk/runners.py\", line 179, in run_async\n",
            "    raise ValueError(f'Session not found: {session_id}')\n",
            "ValueError: Session not found: session1\n"
          ]
        },
        {
          "output_type": "stream",
          "name": "stdout",
          "text": [
            "--- Enviando informações para o Agente Investigação ---\n",
            "Relatório de Visão: Uma pessoa está correndo na rua com uma caixa nas mãos. Nenhuma outra pessoa visível.\n",
            "Avaliação de Risco: \n",
            "\n",
            "--- Sugestão de Investigação do Super Agente ---\n"
          ]
        },
        {
          "output_type": "display_data",
          "data": {
            "text/plain": [
              "<IPython.core.display.Markdown object>"
            ],
            "text/markdown": ""
          },
          "metadata": {}
        }
      ]
    },
    {
      "cell_type": "code",
      "source": [
        "# Célula 11: Definindo uma Ferramenta para Buscar no \"Banco de Dados de Procurados\" (Simulado!)\n",
        "\n",
        "# Esta é a função que simula a busca em um banco de dados de procurados.\n",
        "# Ela vai ser a \"ferramenta\" que nosso Agente Investigação vai usar!\n",
        "\n",
        "def mock_database_lookup(query: str):\n",
        "    \"\"\"Simula a busca por um suspeito em um banco de dados simulado e retorna um resultado mock.\"\"\"\n",
        "    # Em um projeto real, esta função faria uma consulta de verdade a um banco de dados.\n",
        "    # Aqui, vamos retornar um resultado pré-definido baseado em algumas palavras na \"pergunta\".\n",
        "    query_lower = query.lower()\n",
        "    if \"correndo\" in query_lower and \"caixa\" in query_lower:\n",
        "        return \"Resultado da Busca: Suspeito encontrado! Nome: João 'Caixa Rápida' Silva, Procurado por pequenos furtos na área. Sem histórico de violência conhecido.\"\n",
        "    elif \"mochila\" in query_lower and \"nervosamente\" in query_lower:\n",
        "         return \"Resultado da Busca: Suspeito encontrado! Nome: Pedro 'Mochila Nervosa' Souza, Procurado por observação suspeita, sem ficha criminal conhecida.\"\n",
        "    else:\n",
        "        return \"Resultado da Busca: Nenhum suspeito correspondente encontrado no banco de dados de procurados.\"\n",
        "\n",
        "# Nota: Esta função 'mock_database_lookup' está definida agora.\n",
        "# Na próxima célula, vamos ATUALIZAR o Agente Investigação para que ele saiba USAR esta ferramenta!"
      ],
      "metadata": {
        "id": "92zGjLJk9VeN"
      },
      "execution_count": null,
      "outputs": []
    },
    {
      "cell_type": "code",
      "source": [
        "# Célula 12: Atualizando o Agente Investigação para Usar a Ferramenta de Busca!\n",
        "\n",
        "investigation_input = f\"Relatório de Visão: {scene_description}\\nAvaliação de Risco: {risk_assessment}\"\n",
        "\n",
        "print(\"--- Rodando Agente Investigação para Obter Sugestão de Busca ---\")\n",
        "investigation_suggestion = call_agent(investigation_agent, investigation_input)\n",
        "print(\"\\n--- Sugestão do Agente Investigação ---\")\n",
        "display(Markdown(investigation_suggestion))\n",
        "\n",
        "print(\"\\n--- Simulando a Busca no Banco de Dados (Chamada Direta) ---\")\n",
        "search_query_for_mock = scene_description\n",
        "\n",
        "database_result = mock_database_lookup(search_query_for_mock)\n",
        "\n",
        "print(\"\\n--- Resultado da Busca Simulada ---\")\n",
        "display(Markdown(database_result))"
      ],
      "metadata": {
        "colab": {
          "base_uri": "https://localhost:8080/",
          "height": 550
        },
        "id": "rTSLxDRD9gzy",
        "outputId": "f18df4fa-f017-481f-93c6-3e1f09e18c98"
      },
      "execution_count": null,
      "outputs": [
        {
          "output_type": "stream",
          "name": "stderr",
          "text": [
            "Exception in thread Thread-14 (_asyncio_thread_main):\n",
            "Traceback (most recent call last):\n",
            "  File \"/usr/lib/python3.11/threading.py\", line 1045, in _bootstrap_inner\n",
            "    self.run()\n",
            "  File \"/usr/lib/python3.11/threading.py\", line 982, in run\n",
            "    self._target(*self._args, **self._kwargs)\n",
            "  File \"/usr/local/lib/python3.11/dist-packages/google/adk/runners.py\", line 138, in _asyncio_thread_main\n",
            "    asyncio.run(_invoke_run_async())\n",
            "  File \"/usr/lib/python3.11/asyncio/runners.py\", line 190, in run\n",
            "    return runner.run(main)\n",
            "           ^^^^^^^^^^^^^^^^\n",
            "  File \"/usr/lib/python3.11/asyncio/runners.py\", line 118, in run\n",
            "    return self._loop.run_until_complete(task)\n",
            "           ^^^^^^^^^^^^^^^^^^^^^^^^^^^^^^^^^^^\n",
            "  File \"/usr/lib/python3.11/asyncio/base_events.py\", line 654, in run_until_complete\n",
            "    return future.result()\n",
            "           ^^^^^^^^^^^^^^^\n",
            "  File \"/usr/local/lib/python3.11/dist-packages/google/adk/runners.py\", line 126, in _invoke_run_async\n",
            "    async for event in self.run_async(\n",
            "  File \"/usr/local/lib/python3.11/dist-packages/google/adk/runners.py\", line 179, in run_async\n",
            "    raise ValueError(f'Session not found: {session_id}')\n",
            "ValueError: Session not found: session1\n"
          ]
        },
        {
          "output_type": "stream",
          "name": "stdout",
          "text": [
            "--- Rodando Agente Investigação para Obter Sugestão de Busca ---\n",
            "\n",
            "--- Sugestão do Agente Investigação ---\n"
          ]
        },
        {
          "output_type": "display_data",
          "data": {
            "text/plain": [
              "<IPython.core.display.Markdown object>"
            ],
            "text/markdown": ""
          },
          "metadata": {}
        },
        {
          "output_type": "stream",
          "name": "stdout",
          "text": [
            "\n",
            "--- Simulando a Busca no Banco de Dados (Chamada Direta) ---\n",
            "\n",
            "--- Resultado da Busca Simulada ---\n"
          ]
        },
        {
          "output_type": "display_data",
          "data": {
            "text/plain": [
              "<IPython.core.display.Markdown object>"
            ],
            "text/markdown": "Resultado da Busca: Suspeito encontrado! Nome: João 'Caixa Rápida' Silva, Procurado por pequenos furtos na área. Sem histórico de violência conhecido."
          },
          "metadata": {}
        }
      ]
    },
    {
      "cell_type": "code",
      "source": [
        "# Célula 13: Agente Ação Tomando a Decisão Final (Com Info do Banco de Dados!)\n",
        "\n",
        "# Esta célula chama o Agente Ação novamente, mas agora com a informação EXTRA\n",
        "# que veio da simulação de busca no banco de dados (resultado da Célula 12).\n",
        "# Usamos a função call_agent (definida na Célula 3).\n",
        "# Precisamos de 'action_agent' (definido na Célula 7),\n",
        "# e das variáveis 'scene_description', 'risk_assessment', e 'database_result'.\n",
        "# 'display' e 'Markdown' devem estar importados.\n",
        "\n",
        "# Combinando TODAS as informações relevantes para dar como entrada FINAL para o Agente Ação.\n",
        "# Assumimos que 'scene_description', 'risk_assessment' e 'database_result' contêm os últimos resultados.\n",
        "final_action_input = f\"Situação: {scene_description}\\nRisco: {risk_assessment}\\nResultado da Busca: {database_result}\"\n",
        "\n",
        "print(\"--- Enviando situação, risco E resultado da busca para o Agente Ação ---\")\n",
        "print(final_action_input) # Mostrando o conjunto COMPLETO de informações que o Agente Ação vai analisar\n",
        "\n",
        "# Chamamos o Agente Ação (action_agent) usando a função call_agent,\n",
        "# dando a ele o input FINAL com a informação da busca simulada.\n",
        "final_action_recommendation = call_agent(action_agent, final_action_input)\n",
        "\n",
        "# Mostramos a recomendação de ação final do Super Agente, baseada em toda a análise!\n",
        "print(\"\\n--- Recomendação de Ação FINAL do Super Agente Olhos da Lei (Com Busca DB) ---\")\n",
        "display(Markdown(final_action_recommendation))"
      ],
      "metadata": {
        "colab": {
          "base_uri": "https://localhost:8080/",
          "height": 503
        },
        "id": "7DFFOSVu-cvc",
        "outputId": "d1f78e3e-2251-4595-f9be-5c663c3e3724"
      },
      "execution_count": null,
      "outputs": [
        {
          "output_type": "stream",
          "name": "stderr",
          "text": [
            "Exception in thread Thread-15 (_asyncio_thread_main):\n",
            "Traceback (most recent call last):\n",
            "  File \"/usr/lib/python3.11/threading.py\", line 1045, in _bootstrap_inner\n",
            "    self.run()\n",
            "  File \"/usr/lib/python3.11/threading.py\", line 982, in run\n",
            "    self._target(*self._args, **self._kwargs)\n",
            "  File \"/usr/local/lib/python3.11/dist-packages/google/adk/runners.py\", line 138, in _asyncio_thread_main\n",
            "    asyncio.run(_invoke_run_async())\n",
            "  File \"/usr/lib/python3.11/asyncio/runners.py\", line 190, in run\n",
            "    return runner.run(main)\n",
            "           ^^^^^^^^^^^^^^^^\n",
            "  File \"/usr/lib/python3.11/asyncio/runners.py\", line 118, in run\n",
            "    return self._loop.run_until_complete(task)\n",
            "           ^^^^^^^^^^^^^^^^^^^^^^^^^^^^^^^^^^^\n",
            "  File \"/usr/lib/python3.11/asyncio/base_events.py\", line 654, in run_until_complete\n",
            "    return future.result()\n",
            "           ^^^^^^^^^^^^^^^\n",
            "  File \"/usr/local/lib/python3.11/dist-packages/google/adk/runners.py\", line 126, in _invoke_run_async\n",
            "    async for event in self.run_async(\n",
            "  File \"/usr/local/lib/python3.11/dist-packages/google/adk/runners.py\", line 179, in run_async\n",
            "    raise ValueError(f'Session not found: {session_id}')\n",
            "ValueError: Session not found: session1\n"
          ]
        },
        {
          "output_type": "stream",
          "name": "stdout",
          "text": [
            "--- Enviando situação, risco E resultado da busca para o Agente Ação ---\n",
            "Situação: Uma pessoa está correndo na rua com uma caixa nas mãos. Nenhuma outra pessoa visível.\n",
            "Risco: \n",
            "Resultado da Busca: Resultado da Busca: Suspeito encontrado! Nome: João 'Caixa Rápida' Silva, Procurado por pequenos furtos na área. Sem histórico de violência conhecido.\n",
            "\n",
            "--- Recomendação de Ação FINAL do Super Agente Olhos da Lei (Com Busca DB) ---\n"
          ]
        },
        {
          "output_type": "display_data",
          "data": {
            "text/plain": [
              "<IPython.core.display.Markdown object>"
            ],
            "text/markdown": ""
          },
          "metadata": {}
        }
      ]
    }
  ]
}